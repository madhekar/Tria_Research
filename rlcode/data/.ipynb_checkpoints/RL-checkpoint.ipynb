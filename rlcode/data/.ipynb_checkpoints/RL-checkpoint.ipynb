{
 "cells": [
  {
   "cell_type": "code",
   "execution_count": 1,
   "id": "2ddb89d7-01b0-423b-919a-caea149be5ba",
   "metadata": {
    "tags": []
   },
   "outputs": [
    {
     "name": "stdout",
     "output_type": "stream",
     "text": [
      "Requirement already satisfied: tensorflow_cpu==2.11.0 in /opt/conda/lib/python3.10/site-packages (2.11.0)\n",
      "Requirement already satisfied: absl-py>=1.0.0 in /opt/conda/lib/python3.10/site-packages (from tensorflow_cpu==2.11.0) (1.4.0)\n",
      "Requirement already satisfied: six>=1.12.0 in /opt/conda/lib/python3.10/site-packages (from tensorflow_cpu==2.11.0) (1.16.0)\n",
      "Requirement already satisfied: libclang>=13.0.0 in /opt/conda/lib/python3.10/site-packages (from tensorflow_cpu==2.11.0) (15.0.6.1)\n",
      "Requirement already satisfied: tensorboard<2.12,>=2.11 in /opt/conda/lib/python3.10/site-packages (from tensorflow_cpu==2.11.0) (2.11.2)\n",
      "Requirement already satisfied: keras<2.12,>=2.11.0 in /opt/conda/lib/python3.10/site-packages (from tensorflow_cpu==2.11.0) (2.11.0)\n",
      "Requirement already satisfied: opt-einsum>=2.3.2 in /opt/conda/lib/python3.10/site-packages (from tensorflow_cpu==2.11.0) (3.3.0)\n",
      "Requirement already satisfied: h5py>=2.9.0 in /opt/conda/lib/python3.10/site-packages (from tensorflow_cpu==2.11.0) (3.8.0)\n",
      "Requirement already satisfied: typing-extensions>=3.6.6 in /opt/conda/lib/python3.10/site-packages (from tensorflow_cpu==2.11.0) (4.4.0)\n",
      "Requirement already satisfied: tensorflow-estimator<2.12,>=2.11.0 in /opt/conda/lib/python3.10/site-packages (from tensorflow_cpu==2.11.0) (2.11.0)\n",
      "Requirement already satisfied: google-pasta>=0.1.1 in /opt/conda/lib/python3.10/site-packages (from tensorflow_cpu==2.11.0) (0.2.0)\n",
      "Requirement already satisfied: termcolor>=1.1.0 in /opt/conda/lib/python3.10/site-packages (from tensorflow_cpu==2.11.0) (2.2.0)\n",
      "Requirement already satisfied: packaging in /opt/conda/lib/python3.10/site-packages (from tensorflow_cpu==2.11.0) (23.0)\n",
      "Requirement already satisfied: astunparse>=1.6.0 in /opt/conda/lib/python3.10/site-packages (from tensorflow_cpu==2.11.0) (1.6.3)\n",
      "Requirement already satisfied: tensorflow-io-gcs-filesystem>=0.23.1 in /opt/conda/lib/python3.10/site-packages (from tensorflow_cpu==2.11.0) (0.30.0)\n",
      "Requirement already satisfied: setuptools in /opt/conda/lib/python3.10/site-packages (from tensorflow_cpu==2.11.0) (67.1.0)\n",
      "Requirement already satisfied: wrapt>=1.11.0 in /opt/conda/lib/python3.10/site-packages (from tensorflow_cpu==2.11.0) (1.14.1)\n",
      "Requirement already satisfied: numpy>=1.20 in /opt/conda/lib/python3.10/site-packages (from tensorflow_cpu==2.11.0) (1.23.5)\n",
      "Requirement already satisfied: grpcio<2.0,>=1.24.3 in /opt/conda/lib/python3.10/site-packages (from tensorflow_cpu==2.11.0) (1.51.1)\n",
      "Requirement already satisfied: protobuf<3.20,>=3.9.2 in /opt/conda/lib/python3.10/site-packages (from tensorflow_cpu==2.11.0) (3.19.6)\n",
      "Requirement already satisfied: gast<=0.4.0,>=0.2.1 in /opt/conda/lib/python3.10/site-packages (from tensorflow_cpu==2.11.0) (0.4.0)\n",
      "Requirement already satisfied: flatbuffers>=2.0 in /opt/conda/lib/python3.10/site-packages (from tensorflow_cpu==2.11.0) (23.1.21)\n",
      "Requirement already satisfied: wheel<1.0,>=0.23.0 in /opt/conda/lib/python3.10/site-packages (from astunparse>=1.6.0->tensorflow_cpu==2.11.0) (0.38.4)\n",
      "Requirement already satisfied: tensorboard-plugin-wit>=1.6.0 in /opt/conda/lib/python3.10/site-packages (from tensorboard<2.12,>=2.11->tensorflow_cpu==2.11.0) (1.8.1)\n",
      "Requirement already satisfied: tensorboard-data-server<0.7.0,>=0.6.0 in /opt/conda/lib/python3.10/site-packages (from tensorboard<2.12,>=2.11->tensorflow_cpu==2.11.0) (0.6.1)\n",
      "Requirement already satisfied: google-auth-oauthlib<0.5,>=0.4.1 in /opt/conda/lib/python3.10/site-packages (from tensorboard<2.12,>=2.11->tensorflow_cpu==2.11.0) (0.4.6)\n",
      "Requirement already satisfied: werkzeug>=1.0.1 in /opt/conda/lib/python3.10/site-packages (from tensorboard<2.12,>=2.11->tensorflow_cpu==2.11.0) (2.2.2)\n",
      "Requirement already satisfied: markdown>=2.6.8 in /opt/conda/lib/python3.10/site-packages (from tensorboard<2.12,>=2.11->tensorflow_cpu==2.11.0) (3.4.1)\n",
      "Requirement already satisfied: requests<3,>=2.21.0 in /opt/conda/lib/python3.10/site-packages (from tensorboard<2.12,>=2.11->tensorflow_cpu==2.11.0) (2.28.2)\n",
      "Requirement already satisfied: google-auth<3,>=1.6.3 in /opt/conda/lib/python3.10/site-packages (from tensorboard<2.12,>=2.11->tensorflow_cpu==2.11.0) (2.16.0)\n",
      "Requirement already satisfied: rsa<5,>=3.1.4 in /opt/conda/lib/python3.10/site-packages (from google-auth<3,>=1.6.3->tensorboard<2.12,>=2.11->tensorflow_cpu==2.11.0) (4.9)\n",
      "Requirement already satisfied: cachetools<6.0,>=2.0.0 in /opt/conda/lib/python3.10/site-packages (from google-auth<3,>=1.6.3->tensorboard<2.12,>=2.11->tensorflow_cpu==2.11.0) (5.3.0)\n",
      "Requirement already satisfied: pyasn1-modules>=0.2.1 in /opt/conda/lib/python3.10/site-packages (from google-auth<3,>=1.6.3->tensorboard<2.12,>=2.11->tensorflow_cpu==2.11.0) (0.2.8)\n",
      "Requirement already satisfied: requests-oauthlib>=0.7.0 in /opt/conda/lib/python3.10/site-packages (from google-auth-oauthlib<0.5,>=0.4.1->tensorboard<2.12,>=2.11->tensorflow_cpu==2.11.0) (1.3.1)\n",
      "Requirement already satisfied: idna<4,>=2.5 in /opt/conda/lib/python3.10/site-packages (from requests<3,>=2.21.0->tensorboard<2.12,>=2.11->tensorflow_cpu==2.11.0) (3.4)\n",
      "Requirement already satisfied: certifi>=2017.4.17 in /opt/conda/lib/python3.10/site-packages (from requests<3,>=2.21.0->tensorboard<2.12,>=2.11->tensorflow_cpu==2.11.0) (2022.12.7)\n",
      "Requirement already satisfied: urllib3<1.27,>=1.21.1 in /opt/conda/lib/python3.10/site-packages (from requests<3,>=2.21.0->tensorboard<2.12,>=2.11->tensorflow_cpu==2.11.0) (1.26.14)\n",
      "Requirement already satisfied: charset-normalizer<4,>=2 in /opt/conda/lib/python3.10/site-packages (from requests<3,>=2.21.0->tensorboard<2.12,>=2.11->tensorflow_cpu==2.11.0) (2.1.1)\n",
      "Requirement already satisfied: MarkupSafe>=2.1.1 in /opt/conda/lib/python3.10/site-packages (from werkzeug>=1.0.1->tensorboard<2.12,>=2.11->tensorflow_cpu==2.11.0) (2.1.2)\n",
      "Requirement already satisfied: pyasn1<0.5.0,>=0.4.6 in /opt/conda/lib/python3.10/site-packages (from pyasn1-modules>=0.2.1->google-auth<3,>=1.6.3->tensorboard<2.12,>=2.11->tensorflow_cpu==2.11.0) (0.4.8)\n",
      "Requirement already satisfied: oauthlib>=3.0.0 in /opt/conda/lib/python3.10/site-packages (from requests-oauthlib>=0.7.0->google-auth-oauthlib<0.5,>=0.4.1->tensorboard<2.12,>=2.11->tensorflow_cpu==2.11.0) (3.2.2)\n",
      "Requirement already satisfied: gym in /opt/conda/lib/python3.10/site-packages (0.26.2)\n",
      "Requirement already satisfied: numpy>=1.18.0 in /opt/conda/lib/python3.10/site-packages (from gym) (1.23.5)\n",
      "Requirement already satisfied: cloudpickle>=1.2.0 in /opt/conda/lib/python3.10/site-packages (from gym) (2.2.1)\n",
      "Requirement already satisfied: gym-notices>=0.0.4 in /opt/conda/lib/python3.10/site-packages (from gym) (0.0.8)\n",
      "Requirement already satisfied: keras in /opt/conda/lib/python3.10/site-packages (2.11.0)\n"
     ]
    }
   ],
   "source": [
    "#learn\n",
    "import os\n",
    "os.environ['CUDA_VISIBLE_DEVICES'] = '-1'\n",
    "!pip install tensorflow_cpu==2.11.0\n",
    "!pip install gym\n",
    "!pip install keras\n",
    "#!pip install keras-r12"
   ]
  },
  {
   "cell_type": "code",
   "execution_count": 14,
   "id": "9f8a70e1-8377-4165-9e68-3780a51c465e",
   "metadata": {
    "tags": []
   },
   "outputs": [],
   "source": [
    "from gym import Env\n",
    "from gym.spaces import Discrete, Box\n",
    "import numpy as np\n",
    "import random"
   ]
  },
  {
   "cell_type": "code",
   "execution_count": 15,
   "id": "6d336e21-7dd1-4f1f-8e71-1e2f9f07a450",
   "metadata": {
    "tags": []
   },
   "outputs": [],
   "source": [
    "class TriaTempEnv(Env):\n",
    "    def __init__(self):\n",
    "        #actions we can take is on, off.\n",
    "        self.action_space = Discrete(2)\n",
    "        \n",
    "        # temperature array\n",
    "        self.observation_space = Box(low=np.array([50.0]), high=np.array([80.0]))\n",
    "        \n",
    "        # set starting temperature\n",
    "        self.state = 40.0 + random.randint(-2,2)\n",
    "        \n",
    "        # set tria simulation duration\n",
    "        self.tria_length= 100\n",
    "        \n",
    "    def step(self, action):\n",
    "        # apply action\n",
    "        self.state += 1 if action else 0\n",
    "        \n",
    "        #reduce tria simulation length by 1 second\n",
    "        self.tria_length -= 1\n",
    "        \n",
    "        #claculate reward\n",
    "        if self.state >= 75 and self.state <= 78:\n",
    "            reward = 1 \n",
    "        else: \n",
    "            reward = -1\n",
    "        \n",
    "        if self.tria_length <= 0:\n",
    "            done = True\n",
    "        else:\n",
    "            done = False\n",
    "            \n",
    "        # apply temperature noise    \n",
    "        self.state += random.randint(-1,1)\n",
    "        \n",
    "        #set placeholder\n",
    "        info = {}\n",
    "        \n",
    "        return self.state, reward, done, info\n",
    "            \n",
    "        \n",
    "    def render(self):\n",
    "        pass\n",
    "    def reset(self):\n",
    "        self.state = 40 + random.randint(-2,2)\n",
    "        \n",
    "        self.tria_lenth= 100\n",
    "        \n",
    "        return self.state\n",
    "        "
   ]
  },
  {
   "cell_type": "code",
   "execution_count": 16,
   "id": "da3f6507-4da0-4f9a-8afd-aad894160a65",
   "metadata": {
    "tags": []
   },
   "outputs": [
    {
     "name": "stderr",
     "output_type": "stream",
     "text": [
      "/opt/conda/lib/python3.10/site-packages/gym/spaces/box.py:127: UserWarning: \u001b[33mWARN: Box bound precision lowered by casting to float32\u001b[0m\n",
      "  logger.warn(f\"Box bound precision lowered by casting to {self.dtype}\")\n"
     ]
    }
   ],
   "source": [
    "env = TriaTempEnv()"
   ]
  },
  {
   "cell_type": "code",
   "execution_count": 17,
   "id": "507da8ad-fa78-4eb5-98db-016ec6ad5fbc",
   "metadata": {
    "tags": []
   },
   "outputs": [
    {
     "name": "stdout",
     "output_type": "stream",
     "text": [
      "Episode: 1 score: -1\n",
      "Episode: 1 score: -2\n",
      "Episode: 1 score: -3\n",
      "Episode: 1 score: -4\n",
      "Episode: 1 score: -5\n",
      "Episode: 1 score: -6\n",
      "Episode: 1 score: -7\n",
      "Episode: 1 score: -8\n",
      "Episode: 1 score: -9\n",
      "Episode: 1 score: -10\n",
      "Episode: 1 score: -11\n",
      "Episode: 1 score: -12\n",
      "Episode: 1 score: -13\n",
      "Episode: 1 score: -14\n",
      "Episode: 1 score: -15\n",
      "Episode: 1 score: -16\n",
      "Episode: 1 score: -17\n",
      "Episode: 1 score: -18\n",
      "Episode: 1 score: -19\n",
      "Episode: 1 score: -20\n",
      "Episode: 1 score: -21\n",
      "Episode: 1 score: -22\n",
      "Episode: 1 score: -23\n",
      "Episode: 1 score: -24\n",
      "Episode: 1 score: -25\n",
      "Episode: 1 score: -26\n",
      "Episode: 1 score: -27\n",
      "Episode: 1 score: -28\n",
      "Episode: 1 score: -29\n",
      "Episode: 1 score: -30\n",
      "Episode: 1 score: -31\n",
      "Episode: 1 score: -32\n",
      "Episode: 1 score: -33\n",
      "Episode: 1 score: -34\n",
      "Episode: 1 score: -35\n",
      "Episode: 1 score: -36\n",
      "Episode: 1 score: -37\n",
      "Episode: 1 score: -38\n",
      "Episode: 1 score: -39\n",
      "Episode: 1 score: -40\n",
      "Episode: 1 score: -41\n",
      "Episode: 1 score: -42\n",
      "Episode: 1 score: -43\n",
      "Episode: 1 score: -44\n",
      "Episode: 1 score: -45\n",
      "Episode: 1 score: -46\n",
      "Episode: 1 score: -47\n",
      "Episode: 1 score: -48\n",
      "Episode: 1 score: -49\n",
      "Episode: 1 score: -50\n",
      "Episode: 1 score: -49\n",
      "Episode: 1 score: -48\n",
      "Episode: 1 score: -47\n",
      "Episode: 1 score: -46\n",
      "Episode: 1 score: -45\n",
      "Episode: 1 score: -44\n",
      "Episode: 1 score: -43\n",
      "Episode: 1 score: -42\n",
      "Episode: 1 score: -41\n",
      "Episode: 1 score: -40\n",
      "Episode: 1 score: -39\n",
      "Episode: 1 score: -38\n",
      "Episode: 1 score: -37\n",
      "Episode: 1 score: -36\n",
      "Episode: 1 score: -37\n",
      "Episode: 1 score: -36\n",
      "Episode: 1 score: -35\n",
      "Episode: 1 score: -34\n",
      "Episode: 1 score: -33\n",
      "Episode: 1 score: -34\n",
      "Episode: 1 score: -35\n",
      "Episode: 1 score: -36\n",
      "Episode: 1 score: -37\n",
      "Episode: 1 score: -38\n",
      "Episode: 1 score: -39\n",
      "Episode: 1 score: -40\n",
      "Episode: 1 score: -41\n",
      "Episode: 1 score: -42\n",
      "Episode: 1 score: -43\n",
      "Episode: 1 score: -44\n",
      "Episode: 1 score: -45\n",
      "Episode: 1 score: -46\n",
      "Episode: 1 score: -47\n",
      "Episode: 1 score: -48\n",
      "Episode: 1 score: -49\n",
      "Episode: 1 score: -50\n",
      "Episode: 1 score: -51\n",
      "Episode: 1 score: -52\n",
      "Episode: 1 score: -53\n",
      "Episode: 1 score: -54\n",
      "Episode: 1 score: -55\n",
      "Episode: 1 score: -56\n",
      "Episode: 1 score: -57\n",
      "Episode: 1 score: -58\n",
      "Episode: 1 score: -59\n",
      "Episode: 1 score: -60\n",
      "Episode: 1 score: -61\n",
      "Episode: 1 score: -62\n",
      "Episode: 1 score: -63\n",
      "Episode: 1 score: -64\n",
      "Episode: 2 score: -1\n",
      "Episode: 3 score: -1\n",
      "Episode: 4 score: -1\n",
      "Episode: 5 score: -1\n",
      "Episode: 6 score: -1\n",
      "Episode: 7 score: -1\n",
      "Episode: 8 score: -1\n",
      "Episode: 9 score: -1\n",
      "Episode: 10 score: -1\n"
     ]
    }
   ],
   "source": [
    "episodes = 10\n",
    "for episode in range (1, episodes + 1):\n",
    "    state = env.reset()\n",
    "    done = False\n",
    "    score = 0\n",
    "    while not done:\n",
    "        # env.render()\n",
    "        action = env.action_space.sample()\n",
    "        n_state, reward, done, info = env.step(action)\n",
    "        score += reward\n",
    "        print('Episode: {} score: {}'.format(episode, score))\n",
    "    "
   ]
  },
  {
   "cell_type": "code",
   "execution_count": 18,
   "id": "c86aaeb5-6746-4238-8ae4-e7e5475fc4c7",
   "metadata": {
    "tags": []
   },
   "outputs": [],
   "source": [
    "import numpy as np\n",
    "from tensorflow.keras.models import Sequential\n",
    "from tensorflow.keras.layers import Dense, Flatten\n",
    "from tensorflow.keras.optimizers import Adam"
   ]
  },
  {
   "cell_type": "code",
   "execution_count": 19,
   "id": "472d50bc-669f-419e-a958-0b55c66f2c64",
   "metadata": {
    "tags": []
   },
   "outputs": [],
   "source": [
    "states = env.observation_space.shape\n",
    "actions = env.action_space.n"
   ]
  },
  {
   "cell_type": "code",
   "execution_count": 20,
   "id": "114b90ba-60d0-44e3-a7fc-b33e17ba19b4",
   "metadata": {
    "tags": []
   },
   "outputs": [],
   "source": [
    "def build_model(states, actions):\n",
    "    model = Sequential()\n",
    "    model.add(Dense(24, activation='relu', input_shape=states))\n",
    "    model.add(Dense(24, activation='relu'))\n",
    "    model.add(Dense(actions, activation='linear'))\n",
    "    return model"
   ]
  },
  {
   "cell_type": "code",
   "execution_count": 21,
   "id": "1ac78c6b-d284-440e-86ce-7f451c4cac1c",
   "metadata": {
    "tags": []
   },
   "outputs": [],
   "source": [
    "model = build_model(states, actions)"
   ]
  },
  {
   "cell_type": "code",
   "execution_count": 22,
   "id": "6a4dbe2d-1665-4b2a-9b53-50d4b41fea1e",
   "metadata": {
    "tags": []
   },
   "outputs": [
    {
     "name": "stdout",
     "output_type": "stream",
     "text": [
      "Model: \"sequential_1\"\n",
      "_________________________________________________________________\n",
      " Layer (type)                Output Shape              Param #   \n",
      "=================================================================\n",
      " dense_3 (Dense)             (None, 24)                48        \n",
      "                                                                 \n",
      " dense_4 (Dense)             (None, 24)                600       \n",
      "                                                                 \n",
      " dense_5 (Dense)             (None, 2)                 50        \n",
      "                                                                 \n",
      "=================================================================\n",
      "Total params: 698\n",
      "Trainable params: 698\n",
      "Non-trainable params: 0\n",
      "_________________________________________________________________\n"
     ]
    }
   ],
   "source": [
    "model.summary()"
   ]
  },
  {
   "cell_type": "code",
   "execution_count": null,
   "id": "c6928761-d252-46e1-ab7b-cbfe6f7f8978",
   "metadata": {},
   "outputs": [],
   "source": []
  }
 ],
 "metadata": {
  "kernelspec": {
   "display_name": "Python 3",
   "language": "python",
   "name": "python3"
  },
  "language_info": {
   "codemirror_mode": {
    "name": "ipython",
    "version": 3
   },
   "file_extension": ".py",
   "mimetype": "text/x-python",
   "name": "python",
   "nbconvert_exporter": "python",
   "pygments_lexer": "ipython3",
   "version": "3.10.9"
  }
 },
 "nbformat": 4,
 "nbformat_minor": 5
}
